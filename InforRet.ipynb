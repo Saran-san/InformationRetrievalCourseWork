{
  "nbformat": 4,
  "nbformat_minor": 0,
  "metadata": {
    "colab": {
      "name": "InforRet.ipynb",
      "provenance": [],
      "collapsed_sections": []
    },
    "kernelspec": {
      "name": "python3",
      "display_name": "Python 3"
    }
  },
  "cells": [
    {
      "cell_type": "code",
      "metadata": {
        "id": "daz_b54f5uGG",
        "colab": {
          "base_uri": "https://localhost:8080/"
        },
        "outputId": "a79c0111-122c-4115-b2ff-d82bec96b50e"
      },
      "source": [
        "from sklearn.datasets import fetch_20newsgroups as f20\n",
        "\n",
        "categories = ['sci.med', 'talk.politics.guns', 'rec.motorcycles', 'comp.graphics']\n",
        "trainingSet = f20(subset='train', categories=categories, shuffle=True, random_state=42)\n",
        "\n",
        "print (trainingSet.target.shape)"
      ],
      "execution_count": 1,
      "outputs": [
        {
          "output_type": "stream",
          "text": [
            "Downloading 20news dataset. This may take a few minutes.\n",
            "Downloading dataset from https://ndownloader.figshare.com/files/5975967 (14 MB)\n"
          ],
          "name": "stderr"
        },
        {
          "output_type": "stream",
          "text": [
            "(2322,)\n"
          ],
          "name": "stdout"
        }
      ]
    },
    {
      "cell_type": "code",
      "metadata": {
        "id": "zWAMXmoPYdQO"
      },
      "source": [
        "from sklearn.feature_extraction.text import TfidfVectorizer\n",
        "vectorizer = TfidfVectorizer()\n",
        "vectors = vectorizer.fit_transform(trainingSet.data)"
      ],
      "execution_count": 3,
      "outputs": []
    },
    {
      "cell_type": "code",
      "metadata": {
        "id": "-XkDqLSMYxJh",
        "colab": {
          "base_uri": "https://localhost:8080/"
        },
        "outputId": "e2cc2122-99ec-4cd7-8f48-cd4e3f850656"
      },
      "source": [
        "from sklearn.naive_bayes import MultinomialNB\n",
        "from sklearn import metrics\n",
        "\n",
        "clf = MultinomialNB(alpha=.01)\n",
        "clf.fit(vectors, trainingSet.target)\n",
        "\n",
        "testSet = f20(subset='test', categories=categories, shuffle=True, random_state=42)\n",
        "vectors_test = vectorizer.transform(testSet.data)\n",
        "pred = clf.predict(vectors_test)\n",
        "metrics.f1_score(testSet.target, pred, average='macro')"
      ],
      "execution_count": 5,
      "outputs": [
        {
          "output_type": "execute_result",
          "data": {
            "text/plain": [
              "0.96237676781531"
            ]
          },
          "metadata": {
            "tags": []
          },
          "execution_count": 5
        }
      ]
    },
    {
      "cell_type": "code",
      "metadata": {
        "colab": {
          "base_uri": "https://localhost:8080/"
        },
        "id": "HSPYWi2BZNlv",
        "outputId": "1585157e-cd1d-4c19-f046-07b6a8f22ecc"
      },
      "source": [
        "def GetCategory(type):\n",
        "  type = trainingSet.target_names[type]\n",
        "  categories = {'sci.med': 'Medical Science', 'talk.politics.guns': 'Gun Politics', 'rec.motorcycles':'Motorcycles' , 'comp.graphics' : 'Computer Graphics'}\n",
        "  print (categories[type])\n",
        "\n",
        "searchTerms = input(\"Enter the text to classify: \")\n",
        "vectors_test = vectorizer.transform([searchTerms])\n",
        "pred = clf.predict(vectors_test)\n",
        "\n",
        "GetCategory(pred[0])"
      ],
      "execution_count": 11,
      "outputs": [
        {
          "output_type": "stream",
          "text": [
            "Enter the text to classify: 3d engine\n",
            "Computer Graphics\n"
          ],
          "name": "stdout"
        }
      ]
    }
  ]
}